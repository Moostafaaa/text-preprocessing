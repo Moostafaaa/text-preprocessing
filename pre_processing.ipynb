{
  "nbformat": 4,
  "nbformat_minor": 0,
  "metadata": {
    "colab": {
      "provenance": [],
      "authorship_tag": "ABX9TyN+/e+9xcWjWJ+bIBb2t5vn",
      "include_colab_link": true
    },
    "kernelspec": {
      "name": "python3",
      "display_name": "Python 3"
    },
    "language_info": {
      "name": "python"
    }
  },
  "cells": [
    {
      "cell_type": "markdown",
      "metadata": {
        "id": "view-in-github",
        "colab_type": "text"
      },
      "source": [
        "<a href=\"https://colab.research.google.com/github/Moostafaaa/text-preprocessing/blob/main/pre_processing.ipynb\" target=\"_parent\"><img src=\"https://colab.research.google.com/assets/colab-badge.svg\" alt=\"Open In Colab\"/></a>"
      ]
    },
    {
      "cell_type": "code",
      "execution_count": null,
      "metadata": {
        "colab": {
          "base_uri": "https://localhost:8080/"
        },
        "id": "ZNH5R0MKd9Ju",
        "outputId": "9d87ddcd-a289-4aa7-d7ac-f3886ca2c45f"
      },
      "outputs": [
        {
          "output_type": "stream",
          "name": "stdout",
          "text": [
            "\u001b[38;5;2m✔ Download and installation successful\u001b[0m\n",
            "You can now load the package via spacy.load('en_core_web_lg')\n"
          ]
        },
        {
          "output_type": "stream",
          "name": "stderr",
          "text": [
            "[nltk_data] Downloading package punkt to /root/nltk_data...\n",
            "[nltk_data]   Unzipping tokenizers/punkt.zip.\n",
            "[nltk_data] Downloading package stopwords to /root/nltk_data...\n",
            "[nltk_data]   Unzipping corpora/stopwords.zip.\n"
          ]
        },
        {
          "output_type": "execute_result",
          "data": {
            "text/plain": [
              "True"
            ]
          },
          "metadata": {},
          "execution_count": 24
        }
      ],
      "source": [
        "from nltk.corpus import stopwords\n",
        "from nltk.tokenize import word_tokenize\n",
        "import spacy\n",
        "import re\n",
        "import string\n",
        "import nltk\n",
        "\n",
        "# prepare spacy model for lemmatization\n",
        "import spacy.cli\n",
        "spacy.cli.download(\"en_core_web_lg\")\n",
        "nlp = spacy.load(\"en_core_web_lg\")\n",
        "\n",
        "\n",
        "nltk.download('punkt')\n",
        "\n"
      ]
    },
    {
      "cell_type": "code",
      "source": [
        "stop_words = set(['am', 'can', 'down', 'from', 'as', 'be', 'are', 'too', 'through', 'does', 'a', 'but', 'now', 'some', 'an', 'we', 'below', 'against', 'here',\n",
        "     'did', 'yourselves', 'was', 'above', 'him', 'it', 'himself', 'its', 'most', 'the', 're', 'or', 'while', 'your', 'if', 'yours', 'she',\n",
        "     'her', 'other', 'any', 'off', 'few', 'is', 'of', 'there', 'than', 'has', 'so', 'in', 'only', 'have', 'itself', 'for', 'under', 'own', 'were',\n",
        "     'those', 'out', 'very', 'until', 'hers', 'after', 'up', 'they', 'their', 'not', 'doing', 'no', 'them', 'ourselves', 'themselves', 'our', 'on',\n",
        "     'that', 'nor', 'ours', 'at', 'again', 'same', 'over', 'just', 'because', 'before', 'by', 'more', 'being', 'had', 'this', 'with', 'should',\n",
        "     'during', 'herself', 'and', 'these', 'such', 'further', 'do', 'yourself', 'his', 'into', 'once', 'each', 'all', 'then', 'both', 'he', 'me',\n",
        "     'whom', 'i', 'my', 'you', 'to', 'myself', 'about', 'been', 'will', 'between', 've', 'am', 'can', 'shouldn', 'down', 'from', \"wouldn't\", 'as', 'be', 'are', 'too',\n",
        "     'through', \"don't\", 'does', 'a', 'but', 'now', 'some', 'an', \"couldn't\", 'we', 'below', 'against', 'here', 'won', 'did', 'yourselves', 'was', 'above', 'him',\n",
        "     'shan', 'it', \"weren't\", 'himself', 'its', 'most', 'the', 'wouldn', 'needn', 're', 'or', 'while', \"mustn't\", 'your', 'if', \"hasn't\", \"shouldn't\", 'yours',\n",
        "     'she', 'her', 'wasn', 'other', 'aren', 'any', 'll', 'off', 'couldn', 'ain', \"wasn't\", 'few', 'is', 'of', 'there', \"isn't\", 'than', \"shan't\", 'has', 'so',\n",
        "     'in', \"didn't\", 'only', 'have', 'itself', 'for', 'under', 'own', 'hasn', 'were', \"doesn't\", \"needn't\", 'those', 'isn', 'out', 'very', \"won't\", 'until', 'hers',\n",
        "     'after', \"it's\", 'up', 'they', 'their', 'not', 'doing', 'no', 'them', 'ourselves', 'themselves', \"aren't\", 'our', 'on', 'that', 'theirs', 'nor', 't',\n",
        "     'ours', 'at', 's', 'again', 'same', 'over', 'just', 'ma', 'because', 'who', 'mightn', \"you've\", 'before', 'by', 'more', \"should've\", 'being', 'had', 'weren',\n",
        "     'this', \"mightn't\", 'm', 'with', 'should', \"haven't\", \"hadn't\", \"that'll\", \"you're\", 'during', 'haven', 'herself', 'and', 'these', 'such', 'further',\n",
        "     'mustn', 'do', \"you'd\", 'having', 'didn', 'd', 'hadn', 'y', 'yourself', 'his', 'into', 'once', 'each', 'don', 'all', 'then',\n",
        "     'both', 'when', 'he', 'will', 'me', 'whom', 'i', 'my', 'you', 'to', 'between', 'myself', 'doesn', 'about', 'been', 'o', \"you'll\", \"she's\",\n",
        "     've', 'am', 'can', 'shouldn', 'down', 'from', \"wouldn't\", 'as', 'be', 'are', 'too', 'through', \"don't\", 'does', 'a', 'but', 'now', 'some', 'an', \"couldn't\",\n",
        "     'we', 'below', 'against', 'here', 'won', 'did', 'yourselves', 'was', 'above', 'him', 'shan', 'it', \"weren't\", 'himself', 'its', 'most', 'the',\n",
        "     'wouldn', 'needn', 're', 'or', 'while', \"mustn't\", 'your', 'if', \"hasn't\", \"shouldn't\", 'yours', 'she', 'her', 'wasn', 'other', 'aren', 'any', 'll', 'off',\n",
        "     'couldn', 'ain', \"wasn't\", 'few', 'is', 'of', 'there', \"isn't\", 'than', \"shan't\", 'has', 'so', 'in', \"didn't\", 'only', 'have', 'itself', 'for', 'under',\n",
        "     'own', 'hasn', 'were', \"doesn't\", \"needn't\", 'those', 'isn', 'out', 'very', \"won't\", 'until', 'hers', 'after', \"it's\", 'up', 'they', 'their', 'not', 'doing',\n",
        "     'no', 'them', 'ourselves', 'themselves', \"aren't\", 'our', 'on', 'that', 'theirs', 'nor', 't', 'ours', 'at', 's', 'again', 'same', 'over', 'just', 'ma',\n",
        "     'because', 'who', 'mightn', \"you've\", 'before', 'by', 'more', \"should've\", 'being', 'had', 'weren', 'this', \"mightn't\", 'm', 'with', 'should', \"haven't\", \"hadn't\",\n",
        "    \"that'll\", \"you're\", 'during', 'haven', 'herself', 'and', 'these', 'such', 'further', 'mustn', 'do', \"you'd\", 'having', 'didn', 'd', 'hadn', 'y',\n",
        "     'yourself', 'his', 'into', 'once', 'each', 'don', 'all', 'then', 'both', 'when', 'he', 'will',\n",
        "     'me', 'whom', 'i', 'my', 'you', 'to', 'between', 'myself', 'doesn', 'about', 'been', 'o', \"you'll\", \"she's\",\n",
        "     'am', 'can', 'down', 'from', 'as', 'be', 'are', 'too', 'through', 'does', 'a', 'but', 'now', 'some', 'an', 'we', 'below', 'against', 'here', 'did',\n",
        "     'yourselves', 'was', 'above', 'him', 'it', 'himself', 'its', 'most', 'the', 're', 'or', 'while', 'your', 'if', 'yours', 'she', 'her', 'other', 'any',\n",
        "     'off', 'few', 'is', 'of', 'there', 'than', 'has', 'so', 'in', 'only', 'have', 'itself', 'for', 'under', 'own', 'were', 'those', 'out', 'very', 'until',\n",
        "     'hers', 'after', 'up', 'they', 'their', 'not', 'doing', 'no', 'them', 'ourselves', 'themselves', 'our', 'on', 'that', 'nor', 'ours', 'at', 'again',\n",
        "     'same', 'over', 'just', 'because', 'who', 'before', 'by', 'more', 'being', 'had', 'this', 'with', 'should', 'during', 'herself', 'and', 'these', 'such',\n",
        "     'further', 'do', 'yourself', 'his', 'into', 'once', 'each',\n",
        "     'all', 'then', 'both', 'when', 'he', 'me', 'whom', 'i', 'my', 'you', 'to', 'myself', 'about', 'been', 'will', 'between'])"
      ],
      "metadata": {
        "id": "gmpBN1ZDf7y_"
      },
      "execution_count": null,
      "outputs": []
    },
    {
      "cell_type": "code",
      "source": [
        "# defining a fuction to remove punctuations\n",
        "def remove_punc(news_text):\n",
        "    result = re.sub(r'[0-9]+', '', news_text)\n",
        "    text = re.compile('[%s]' % re.escape(string.punctuation)).sub('', result)\n",
        "    return text\n",
        "\n",
        "# defining a function to remove stop words\n",
        "def remove_stop(the_text):\n",
        "  # Tokenize the text into words\n",
        "  words = word_tokenize(the_text)\n",
        "\n",
        "  # Filter out the stop words from the text\n",
        "  filtered_words = [word for word in words if not word in stop_words]\n",
        "\n",
        "  # Join the filtered words into a string\n",
        "  filtered_text = ' '.join(filtered_words)\n",
        "\n",
        "  # return the filtered text\n",
        "  return(filtered_text)\n",
        "\n",
        "\n",
        "\n",
        "\n",
        "# defining lemmatization function\n",
        "def lemm(text):\n",
        "    lemme=[]\n",
        "    for token in nlp(text):\n",
        "        lemme.append(token.lemma_)\n",
        "\n",
        "    return \" \".join(lemme)\n",
        "\n",
        "\n",
        "# defining a fuction that combines all preprocessing steps needed\n",
        "def preprocessing_text(text):\n",
        "    text = remove_punc(text)\n",
        "    text = remove_stop(text)\n",
        "    text = lemm(text)\n",
        "    return text\n"
      ],
      "metadata": {
        "id": "4_qRh8w2eBBW"
      },
      "execution_count": null,
      "outputs": []
    },
    {
      "cell_type": "code",
      "source": [
        "import pandas as pd\n",
        "import numpy as np"
      ],
      "metadata": {
        "id": "J0EzofuPeBFu"
      },
      "execution_count": null,
      "outputs": []
    },
    {
      "cell_type": "code",
      "source": [
        "df1 = pd.read_csv('/content/extracted_data_400.csv')"
      ],
      "metadata": {
        "id": "ghiBVsq-xYaq"
      },
      "execution_count": null,
      "outputs": []
    },
    {
      "cell_type": "code",
      "source": [
        "df2 = pd.read_csv('/content/new_coll.csv')"
      ],
      "metadata": {
        "id": "IMb-5WRL2Y2G"
      },
      "execution_count": null,
      "outputs": []
    },
    {
      "cell_type": "code",
      "source": [
        "df3 = pd.read_csv('/content/new_train.csv')"
      ],
      "metadata": {
        "id": "C_8Da0QZ2Z3t"
      },
      "execution_count": null,
      "outputs": []
    },
    {
      "cell_type": "code",
      "source": [
        "df4 = pd.read_csv('/content/new_wiki.csv')"
      ],
      "metadata": {
        "id": "VCt7L1a72a7s"
      },
      "execution_count": null,
      "outputs": []
    },
    {
      "cell_type": "code",
      "source": [
        "df5 = pd.read_csv('/content/picked_words_2000.csv')"
      ],
      "metadata": {
        "id": "XV9RrRam2dGe"
      },
      "execution_count": null,
      "outputs": []
    },
    {
      "cell_type": "code",
      "source": [
        "df6 = pd.read_csv('/content/test.csv')"
      ],
      "metadata": {
        "id": "Plj0m53i2eXH"
      },
      "execution_count": null,
      "outputs": []
    },
    {
      "cell_type": "code",
      "source": [
        "df1=df1[['prompt', 'A', 'B', 'C', 'D', 'E', 'answer']]"
      ],
      "metadata": {
        "id": "5J4y6OrG2oQy"
      },
      "execution_count": null,
      "outputs": []
    },
    {
      "cell_type": "markdown",
      "source": [
        "**Filling the missing values of E with shuffled values of A with indices**"
      ],
      "metadata": {
        "id": "qDeXqMNe6SJJ"
      }
    },
    {
      "cell_type": "code",
      "source": [
        "df3 = df3.fillna(\"nan\")"
      ],
      "metadata": {
        "id": "2iDqpbBX4AeC"
      },
      "execution_count": null,
      "outputs": []
    },
    {
      "cell_type": "code",
      "source": [
        "df3[df3.E == \"nan\"]"
      ],
      "metadata": {
        "colab": {
          "base_uri": "https://localhost:8080/",
          "height": 614
        },
        "id": "bLL1soi57Umh",
        "outputId": "80e21e89-c56e-4c89-ecce-7d80f336338b"
      },
      "execution_count": null,
      "outputs": [
        {
          "output_type": "execute_result",
          "data": {
            "text/plain": [
              "      Unnamed: 0                                             prompt  \\\n",
              "882          791  Which class of carbohydrates is considered as ...   \n",
              "883          792  According to laws of thermodynamics, the energ...   \n",
              "884          793  Which of the following cranial nerve is presen...   \n",
              "885          794  Which of the following is NOT the dye-based ch...   \n",
              "886          795   Which of the following is the integrated gene...   \n",
              "...          ...                                                ...   \n",
              "1043         952   Which of the following represents series type...   \n",
              "1044         953  A solution of L-alanine (4.0g/50 ml of 6 N HCl...   \n",
              "1045         954            Which of the following is TRUE for YAC?   \n",
              "1046         955  Name the deficiency in which T and B lymphocyt...   \n",
              "1047         956  Which of the following disorder is caused due ...   \n",
              "\n",
              "                              A                        B  \\\n",
              "882             Monosaccharides            Disaccharides   \n",
              "883         constant, increases      constant, decreases   \n",
              "884                   Olfactory                    Optic   \n",
              "885    Extranuclear inheritance                  Reverse   \n",
              "886   Virus-like-particle (VLP)                    Prion   \n",
              "...                         ...                      ...   \n",
              "1043               A  →  R + P↓               A → R → P↓   \n",
              "1044                     Epimer                   +10.1°   \n",
              "1045                      EMBL3  Two fold axial symmetry   \n",
              "1046                       Gout                     CVID   \n",
              "1047                       SCID             Galectosemia   \n",
              "\n",
              "                                C                            D    E answer  \n",
              "882               Polysaccharides             Oligosaccharides  nan      C  \n",
              "883   increases, remains constant  decreases, remains constant  nan      A  \n",
              "884                   Hypoglossal             Glossopharyngeal  nan      C  \n",
              "885                      Euploidy                      Diploid  nan      D  \n",
              "886                      Provirus                       Viroid  nan      C  \n",
              "...                           ...                          ...  ...    ...  \n",
              "1043                 A → R, A → P                       A → P↓  nan      B  \n",
              "1044                   Enantiomer                Chiral carbon  nan      B  \n",
              "1045                        λgt10                         λZAP  nan      D  \n",
              "1046              Cystic fibrosis    Maple syrup urine disease  nan      C  \n",
              "1047              Cystic fibrosis                Down syndrome  nan      A  \n",
              "\n",
              "[166 rows x 8 columns]"
            ],
            "text/html": [
              "\n",
              "  <div id=\"df-fbf65553-9b81-4bb5-b5a3-80cfe889a63c\" class=\"colab-df-container\">\n",
              "    <div>\n",
              "<style scoped>\n",
              "    .dataframe tbody tr th:only-of-type {\n",
              "        vertical-align: middle;\n",
              "    }\n",
              "\n",
              "    .dataframe tbody tr th {\n",
              "        vertical-align: top;\n",
              "    }\n",
              "\n",
              "    .dataframe thead th {\n",
              "        text-align: right;\n",
              "    }\n",
              "</style>\n",
              "<table border=\"1\" class=\"dataframe\">\n",
              "  <thead>\n",
              "    <tr style=\"text-align: right;\">\n",
              "      <th></th>\n",
              "      <th>Unnamed: 0</th>\n",
              "      <th>prompt</th>\n",
              "      <th>A</th>\n",
              "      <th>B</th>\n",
              "      <th>C</th>\n",
              "      <th>D</th>\n",
              "      <th>E</th>\n",
              "      <th>answer</th>\n",
              "    </tr>\n",
              "  </thead>\n",
              "  <tbody>\n",
              "    <tr>\n",
              "      <th>882</th>\n",
              "      <td>791</td>\n",
              "      <td>Which class of carbohydrates is considered as ...</td>\n",
              "      <td>Monosaccharides</td>\n",
              "      <td>Disaccharides</td>\n",
              "      <td>Polysaccharides</td>\n",
              "      <td>Oligosaccharides</td>\n",
              "      <td>nan</td>\n",
              "      <td>C</td>\n",
              "    </tr>\n",
              "    <tr>\n",
              "      <th>883</th>\n",
              "      <td>792</td>\n",
              "      <td>According to laws of thermodynamics, the energ...</td>\n",
              "      <td>constant, increases</td>\n",
              "      <td>constant, decreases</td>\n",
              "      <td>increases, remains constant</td>\n",
              "      <td>decreases, remains constant</td>\n",
              "      <td>nan</td>\n",
              "      <td>A</td>\n",
              "    </tr>\n",
              "    <tr>\n",
              "      <th>884</th>\n",
              "      <td>793</td>\n",
              "      <td>Which of the following cranial nerve is presen...</td>\n",
              "      <td>Olfactory</td>\n",
              "      <td>Optic</td>\n",
              "      <td>Hypoglossal</td>\n",
              "      <td>Glossopharyngeal</td>\n",
              "      <td>nan</td>\n",
              "      <td>C</td>\n",
              "    </tr>\n",
              "    <tr>\n",
              "      <th>885</th>\n",
              "      <td>794</td>\n",
              "      <td>Which of the following is NOT the dye-based ch...</td>\n",
              "      <td>Extranuclear inheritance</td>\n",
              "      <td>Reverse</td>\n",
              "      <td>Euploidy</td>\n",
              "      <td>Diploid</td>\n",
              "      <td>nan</td>\n",
              "      <td>D</td>\n",
              "    </tr>\n",
              "    <tr>\n",
              "      <th>886</th>\n",
              "      <td>795</td>\n",
              "      <td>Which of the following is the integrated gene...</td>\n",
              "      <td>Virus-like-particle (VLP)</td>\n",
              "      <td>Prion</td>\n",
              "      <td>Provirus</td>\n",
              "      <td>Viroid</td>\n",
              "      <td>nan</td>\n",
              "      <td>C</td>\n",
              "    </tr>\n",
              "    <tr>\n",
              "      <th>...</th>\n",
              "      <td>...</td>\n",
              "      <td>...</td>\n",
              "      <td>...</td>\n",
              "      <td>...</td>\n",
              "      <td>...</td>\n",
              "      <td>...</td>\n",
              "      <td>...</td>\n",
              "      <td>...</td>\n",
              "    </tr>\n",
              "    <tr>\n",
              "      <th>1043</th>\n",
              "      <td>952</td>\n",
              "      <td>Which of the following represents series type...</td>\n",
              "      <td>A  →  R + P↓</td>\n",
              "      <td>A → R → P↓</td>\n",
              "      <td>A → R, A → P</td>\n",
              "      <td>A → P↓</td>\n",
              "      <td>nan</td>\n",
              "      <td>B</td>\n",
              "    </tr>\n",
              "    <tr>\n",
              "      <th>1044</th>\n",
              "      <td>953</td>\n",
              "      <td>A solution of L-alanine (4.0g/50 ml of 6 N HCl...</td>\n",
              "      <td>Epimer</td>\n",
              "      <td>+10.1°</td>\n",
              "      <td>Enantiomer</td>\n",
              "      <td>Chiral carbon</td>\n",
              "      <td>nan</td>\n",
              "      <td>B</td>\n",
              "    </tr>\n",
              "    <tr>\n",
              "      <th>1045</th>\n",
              "      <td>954</td>\n",
              "      <td>Which of the following is TRUE for YAC?</td>\n",
              "      <td>EMBL3</td>\n",
              "      <td>Two fold axial symmetry</td>\n",
              "      <td>λgt10</td>\n",
              "      <td>λZAP</td>\n",
              "      <td>nan</td>\n",
              "      <td>D</td>\n",
              "    </tr>\n",
              "    <tr>\n",
              "      <th>1046</th>\n",
              "      <td>955</td>\n",
              "      <td>Name the deficiency in which T and B lymphocyt...</td>\n",
              "      <td>Gout</td>\n",
              "      <td>CVID</td>\n",
              "      <td>Cystic fibrosis</td>\n",
              "      <td>Maple syrup urine disease</td>\n",
              "      <td>nan</td>\n",
              "      <td>C</td>\n",
              "    </tr>\n",
              "    <tr>\n",
              "      <th>1047</th>\n",
              "      <td>956</td>\n",
              "      <td>Which of the following disorder is caused due ...</td>\n",
              "      <td>SCID</td>\n",
              "      <td>Galectosemia</td>\n",
              "      <td>Cystic fibrosis</td>\n",
              "      <td>Down syndrome</td>\n",
              "      <td>nan</td>\n",
              "      <td>A</td>\n",
              "    </tr>\n",
              "  </tbody>\n",
              "</table>\n",
              "<p>166 rows × 8 columns</p>\n",
              "</div>\n",
              "    <div class=\"colab-df-buttons\">\n",
              "\n",
              "  <div class=\"colab-df-container\">\n",
              "    <button class=\"colab-df-convert\" onclick=\"convertToInteractive('df-fbf65553-9b81-4bb5-b5a3-80cfe889a63c')\"\n",
              "            title=\"Convert this dataframe to an interactive table.\"\n",
              "            style=\"display:none;\">\n",
              "\n",
              "  <svg xmlns=\"http://www.w3.org/2000/svg\" height=\"24px\" viewBox=\"0 -960 960 960\">\n",
              "    <path d=\"M120-120v-720h720v720H120Zm60-500h600v-160H180v160Zm220 220h160v-160H400v160Zm0 220h160v-160H400v160ZM180-400h160v-160H180v160Zm440 0h160v-160H620v160ZM180-180h160v-160H180v160Zm440 0h160v-160H620v160Z\"/>\n",
              "  </svg>\n",
              "    </button>\n",
              "\n",
              "  <style>\n",
              "    .colab-df-container {\n",
              "      display:flex;\n",
              "      gap: 12px;\n",
              "    }\n",
              "\n",
              "    .colab-df-convert {\n",
              "      background-color: #E8F0FE;\n",
              "      border: none;\n",
              "      border-radius: 50%;\n",
              "      cursor: pointer;\n",
              "      display: none;\n",
              "      fill: #1967D2;\n",
              "      height: 32px;\n",
              "      padding: 0 0 0 0;\n",
              "      width: 32px;\n",
              "    }\n",
              "\n",
              "    .colab-df-convert:hover {\n",
              "      background-color: #E2EBFA;\n",
              "      box-shadow: 0px 1px 2px rgba(60, 64, 67, 0.3), 0px 1px 3px 1px rgba(60, 64, 67, 0.15);\n",
              "      fill: #174EA6;\n",
              "    }\n",
              "\n",
              "    .colab-df-buttons div {\n",
              "      margin-bottom: 4px;\n",
              "    }\n",
              "\n",
              "    [theme=dark] .colab-df-convert {\n",
              "      background-color: #3B4455;\n",
              "      fill: #D2E3FC;\n",
              "    }\n",
              "\n",
              "    [theme=dark] .colab-df-convert:hover {\n",
              "      background-color: #434B5C;\n",
              "      box-shadow: 0px 1px 3px 1px rgba(0, 0, 0, 0.15);\n",
              "      filter: drop-shadow(0px 1px 2px rgba(0, 0, 0, 0.3));\n",
              "      fill: #FFFFFF;\n",
              "    }\n",
              "  </style>\n",
              "\n",
              "    <script>\n",
              "      const buttonEl =\n",
              "        document.querySelector('#df-fbf65553-9b81-4bb5-b5a3-80cfe889a63c button.colab-df-convert');\n",
              "      buttonEl.style.display =\n",
              "        google.colab.kernel.accessAllowed ? 'block' : 'none';\n",
              "\n",
              "      async function convertToInteractive(key) {\n",
              "        const element = document.querySelector('#df-fbf65553-9b81-4bb5-b5a3-80cfe889a63c');\n",
              "        const dataTable =\n",
              "          await google.colab.kernel.invokeFunction('convertToInteractive',\n",
              "                                                    [key], {});\n",
              "        if (!dataTable) return;\n",
              "\n",
              "        const docLinkHtml = 'Like what you see? Visit the ' +\n",
              "          '<a target=\"_blank\" href=https://colab.research.google.com/notebooks/data_table.ipynb>data table notebook</a>'\n",
              "          + ' to learn more about interactive tables.';\n",
              "        element.innerHTML = '';\n",
              "        dataTable['output_type'] = 'display_data';\n",
              "        await google.colab.output.renderOutput(dataTable, element);\n",
              "        const docLink = document.createElement('div');\n",
              "        docLink.innerHTML = docLinkHtml;\n",
              "        element.appendChild(docLink);\n",
              "      }\n",
              "    </script>\n",
              "  </div>\n",
              "\n",
              "\n",
              "<div id=\"df-90b5112b-de52-4adc-84c8-300666cf32c5\">\n",
              "  <button class=\"colab-df-quickchart\" onclick=\"quickchart('df-90b5112b-de52-4adc-84c8-300666cf32c5')\"\n",
              "            title=\"Suggest charts.\"\n",
              "            style=\"display:none;\">\n",
              "\n",
              "<svg xmlns=\"http://www.w3.org/2000/svg\" height=\"24px\"viewBox=\"0 0 24 24\"\n",
              "     width=\"24px\">\n",
              "    <g>\n",
              "        <path d=\"M19 3H5c-1.1 0-2 .9-2 2v14c0 1.1.9 2 2 2h14c1.1 0 2-.9 2-2V5c0-1.1-.9-2-2-2zM9 17H7v-7h2v7zm4 0h-2V7h2v10zm4 0h-2v-4h2v4z\"/>\n",
              "    </g>\n",
              "</svg>\n",
              "  </button>\n",
              "\n",
              "<style>\n",
              "  .colab-df-quickchart {\n",
              "    background-color: #E8F0FE;\n",
              "    border: none;\n",
              "    border-radius: 50%;\n",
              "    cursor: pointer;\n",
              "    display: none;\n",
              "    fill: #1967D2;\n",
              "    height: 32px;\n",
              "    padding: 0 0 0 0;\n",
              "    width: 32px;\n",
              "  }\n",
              "\n",
              "  .colab-df-quickchart:hover {\n",
              "    background-color: #E2EBFA;\n",
              "    box-shadow: 0px 1px 2px rgba(60, 64, 67, 0.3), 0px 1px 3px 1px rgba(60, 64, 67, 0.15);\n",
              "    fill: #174EA6;\n",
              "  }\n",
              "\n",
              "  [theme=dark] .colab-df-quickchart {\n",
              "    background-color: #3B4455;\n",
              "    fill: #D2E3FC;\n",
              "  }\n",
              "\n",
              "  [theme=dark] .colab-df-quickchart:hover {\n",
              "    background-color: #434B5C;\n",
              "    box-shadow: 0px 1px 3px 1px rgba(0, 0, 0, 0.15);\n",
              "    filter: drop-shadow(0px 1px 2px rgba(0, 0, 0, 0.3));\n",
              "    fill: #FFFFFF;\n",
              "  }\n",
              "</style>\n",
              "\n",
              "  <script>\n",
              "    async function quickchart(key) {\n",
              "      const charts = await google.colab.kernel.invokeFunction(\n",
              "          'suggestCharts', [key], {});\n",
              "    }\n",
              "    (() => {\n",
              "      let quickchartButtonEl =\n",
              "        document.querySelector('#df-90b5112b-de52-4adc-84c8-300666cf32c5 button');\n",
              "      quickchartButtonEl.style.display =\n",
              "        google.colab.kernel.accessAllowed ? 'block' : 'none';\n",
              "    })();\n",
              "  </script>\n",
              "</div>\n",
              "    </div>\n",
              "  </div>\n"
            ]
          },
          "metadata": {},
          "execution_count": 77
        }
      ]
    },
    {
      "cell_type": "code",
      "source": [
        "ind = df3.B.loc[0:165].sample(frac=1).index"
      ],
      "metadata": {
        "id": "rVM-Qyj55Dv5"
      },
      "execution_count": null,
      "outputs": []
    },
    {
      "cell_type": "code",
      "source": [
        "mind = df3[df3.E == \"nan\"].index"
      ],
      "metadata": {
        "id": "52wT8bHx4pOu"
      },
      "execution_count": null,
      "outputs": []
    },
    {
      "cell_type": "code",
      "source": [
        "df3.E.loc[mind] = df3.B.loc[ind]"
      ],
      "metadata": {
        "colab": {
          "base_uri": "https://localhost:8080/"
        },
        "id": "vxAdY0ie6Apk",
        "outputId": "6580f8ae-9afe-440a-df16-fe869917f877"
      },
      "execution_count": null,
      "outputs": [
        {
          "output_type": "stream",
          "name": "stderr",
          "text": [
            "<ipython-input-82-1b25d89bd32d>:1: SettingWithCopyWarning: \n",
            "A value is trying to be set on a copy of a slice from a DataFrame\n",
            "\n",
            "See the caveats in the documentation: https://pandas.pydata.org/pandas-docs/stable/user_guide/indexing.html#returning-a-view-versus-a-copy\n",
            "  df3.E.loc[mind] = df3.B.loc[ind]\n"
          ]
        }
      ]
    },
    {
      "cell_type": "code",
      "source": [
        "df3[df3.E == \"nan\"]"
      ],
      "metadata": {
        "colab": {
          "base_uri": "https://localhost:8080/",
          "height": 89
        },
        "id": "f3fsnDDK6As2",
        "outputId": "bef7b9b4-089c-4963-8201-36855707c946"
      },
      "execution_count": null,
      "outputs": [
        {
          "output_type": "execute_result",
          "data": {
            "text/plain": [
              "Empty DataFrame\n",
              "Columns: [Unnamed: 0, prompt, A, B, C, D, E, answer]\n",
              "Index: []"
            ],
            "text/html": [
              "\n",
              "  <div id=\"df-400056d1-e40d-4fbc-8cde-3deb05559e58\" class=\"colab-df-container\">\n",
              "    <div>\n",
              "<style scoped>\n",
              "    .dataframe tbody tr th:only-of-type {\n",
              "        vertical-align: middle;\n",
              "    }\n",
              "\n",
              "    .dataframe tbody tr th {\n",
              "        vertical-align: top;\n",
              "    }\n",
              "\n",
              "    .dataframe thead th {\n",
              "        text-align: right;\n",
              "    }\n",
              "</style>\n",
              "<table border=\"1\" class=\"dataframe\">\n",
              "  <thead>\n",
              "    <tr style=\"text-align: right;\">\n",
              "      <th></th>\n",
              "      <th>Unnamed: 0</th>\n",
              "      <th>prompt</th>\n",
              "      <th>A</th>\n",
              "      <th>B</th>\n",
              "      <th>C</th>\n",
              "      <th>D</th>\n",
              "      <th>E</th>\n",
              "      <th>answer</th>\n",
              "    </tr>\n",
              "  </thead>\n",
              "  <tbody>\n",
              "  </tbody>\n",
              "</table>\n",
              "</div>\n",
              "    <div class=\"colab-df-buttons\">\n",
              "\n",
              "  <div class=\"colab-df-container\">\n",
              "    <button class=\"colab-df-convert\" onclick=\"convertToInteractive('df-400056d1-e40d-4fbc-8cde-3deb05559e58')\"\n",
              "            title=\"Convert this dataframe to an interactive table.\"\n",
              "            style=\"display:none;\">\n",
              "\n",
              "  <svg xmlns=\"http://www.w3.org/2000/svg\" height=\"24px\" viewBox=\"0 -960 960 960\">\n",
              "    <path d=\"M120-120v-720h720v720H120Zm60-500h600v-160H180v160Zm220 220h160v-160H400v160Zm0 220h160v-160H400v160ZM180-400h160v-160H180v160Zm440 0h160v-160H620v160ZM180-180h160v-160H180v160Zm440 0h160v-160H620v160Z\"/>\n",
              "  </svg>\n",
              "    </button>\n",
              "\n",
              "  <style>\n",
              "    .colab-df-container {\n",
              "      display:flex;\n",
              "      gap: 12px;\n",
              "    }\n",
              "\n",
              "    .colab-df-convert {\n",
              "      background-color: #E8F0FE;\n",
              "      border: none;\n",
              "      border-radius: 50%;\n",
              "      cursor: pointer;\n",
              "      display: none;\n",
              "      fill: #1967D2;\n",
              "      height: 32px;\n",
              "      padding: 0 0 0 0;\n",
              "      width: 32px;\n",
              "    }\n",
              "\n",
              "    .colab-df-convert:hover {\n",
              "      background-color: #E2EBFA;\n",
              "      box-shadow: 0px 1px 2px rgba(60, 64, 67, 0.3), 0px 1px 3px 1px rgba(60, 64, 67, 0.15);\n",
              "      fill: #174EA6;\n",
              "    }\n",
              "\n",
              "    .colab-df-buttons div {\n",
              "      margin-bottom: 4px;\n",
              "    }\n",
              "\n",
              "    [theme=dark] .colab-df-convert {\n",
              "      background-color: #3B4455;\n",
              "      fill: #D2E3FC;\n",
              "    }\n",
              "\n",
              "    [theme=dark] .colab-df-convert:hover {\n",
              "      background-color: #434B5C;\n",
              "      box-shadow: 0px 1px 3px 1px rgba(0, 0, 0, 0.15);\n",
              "      filter: drop-shadow(0px 1px 2px rgba(0, 0, 0, 0.3));\n",
              "      fill: #FFFFFF;\n",
              "    }\n",
              "  </style>\n",
              "\n",
              "    <script>\n",
              "      const buttonEl =\n",
              "        document.querySelector('#df-400056d1-e40d-4fbc-8cde-3deb05559e58 button.colab-df-convert');\n",
              "      buttonEl.style.display =\n",
              "        google.colab.kernel.accessAllowed ? 'block' : 'none';\n",
              "\n",
              "      async function convertToInteractive(key) {\n",
              "        const element = document.querySelector('#df-400056d1-e40d-4fbc-8cde-3deb05559e58');\n",
              "        const dataTable =\n",
              "          await google.colab.kernel.invokeFunction('convertToInteractive',\n",
              "                                                    [key], {});\n",
              "        if (!dataTable) return;\n",
              "\n",
              "        const docLinkHtml = 'Like what you see? Visit the ' +\n",
              "          '<a target=\"_blank\" href=https://colab.research.google.com/notebooks/data_table.ipynb>data table notebook</a>'\n",
              "          + ' to learn more about interactive tables.';\n",
              "        element.innerHTML = '';\n",
              "        dataTable['output_type'] = 'display_data';\n",
              "        await google.colab.output.renderOutput(dataTable, element);\n",
              "        const docLink = document.createElement('div');\n",
              "        docLink.innerHTML = docLinkHtml;\n",
              "        element.appendChild(docLink);\n",
              "      }\n",
              "    </script>\n",
              "  </div>\n",
              "\n",
              "\n",
              "<div id=\"df-71b2c361-922c-448c-bc84-b146adf4efc7\">\n",
              "  <button class=\"colab-df-quickchart\" onclick=\"quickchart('df-71b2c361-922c-448c-bc84-b146adf4efc7')\"\n",
              "            title=\"Suggest charts.\"\n",
              "            style=\"display:none;\">\n",
              "\n",
              "<svg xmlns=\"http://www.w3.org/2000/svg\" height=\"24px\"viewBox=\"0 0 24 24\"\n",
              "     width=\"24px\">\n",
              "    <g>\n",
              "        <path d=\"M19 3H5c-1.1 0-2 .9-2 2v14c0 1.1.9 2 2 2h14c1.1 0 2-.9 2-2V5c0-1.1-.9-2-2-2zM9 17H7v-7h2v7zm4 0h-2V7h2v10zm4 0h-2v-4h2v4z\"/>\n",
              "    </g>\n",
              "</svg>\n",
              "  </button>\n",
              "\n",
              "<style>\n",
              "  .colab-df-quickchart {\n",
              "    background-color: #E8F0FE;\n",
              "    border: none;\n",
              "    border-radius: 50%;\n",
              "    cursor: pointer;\n",
              "    display: none;\n",
              "    fill: #1967D2;\n",
              "    height: 32px;\n",
              "    padding: 0 0 0 0;\n",
              "    width: 32px;\n",
              "  }\n",
              "\n",
              "  .colab-df-quickchart:hover {\n",
              "    background-color: #E2EBFA;\n",
              "    box-shadow: 0px 1px 2px rgba(60, 64, 67, 0.3), 0px 1px 3px 1px rgba(60, 64, 67, 0.15);\n",
              "    fill: #174EA6;\n",
              "  }\n",
              "\n",
              "  [theme=dark] .colab-df-quickchart {\n",
              "    background-color: #3B4455;\n",
              "    fill: #D2E3FC;\n",
              "  }\n",
              "\n",
              "  [theme=dark] .colab-df-quickchart:hover {\n",
              "    background-color: #434B5C;\n",
              "    box-shadow: 0px 1px 3px 1px rgba(0, 0, 0, 0.15);\n",
              "    filter: drop-shadow(0px 1px 2px rgba(0, 0, 0, 0.3));\n",
              "    fill: #FFFFFF;\n",
              "  }\n",
              "</style>\n",
              "\n",
              "  <script>\n",
              "    async function quickchart(key) {\n",
              "      const charts = await google.colab.kernel.invokeFunction(\n",
              "          'suggestCharts', [key], {});\n",
              "    }\n",
              "    (() => {\n",
              "      let quickchartButtonEl =\n",
              "        document.querySelector('#df-71b2c361-922c-448c-bc84-b146adf4efc7 button');\n",
              "      quickchartButtonEl.style.display =\n",
              "        google.colab.kernel.accessAllowed ? 'block' : 'none';\n",
              "    })();\n",
              "  </script>\n",
              "</div>\n",
              "    </div>\n",
              "  </div>\n"
            ]
          },
          "metadata": {},
          "execution_count": 83
        }
      ]
    },
    {
      "cell_type": "code",
      "source": [
        "df3 = df3.apply(lambda x: x.fillna(x.value_counts().index[3]))"
      ],
      "metadata": {
        "id": "peaVAeAG7z2Q"
      },
      "execution_count": null,
      "outputs": []
    },
    {
      "cell_type": "code",
      "source": [
        "df3.isna().sum()"
      ],
      "metadata": {
        "colab": {
          "base_uri": "https://localhost:8080/"
        },
        "id": "wgAY__rr7Kiu",
        "outputId": "9ae33873-c704-44f7-a8f3-1c29695d08e7"
      },
      "execution_count": null,
      "outputs": [
        {
          "output_type": "execute_result",
          "data": {
            "text/plain": [
              "Unnamed: 0    0\n",
              "prompt        0\n",
              "A             0\n",
              "B             0\n",
              "C             0\n",
              "D             0\n",
              "E             0\n",
              "answer        0\n",
              "dtype: int64"
            ]
          },
          "metadata": {},
          "execution_count": 87
        }
      ]
    },
    {
      "cell_type": "code",
      "source": [],
      "metadata": {
        "id": "7bnvYkqC6AwR"
      },
      "execution_count": null,
      "outputs": []
    },
    {
      "cell_type": "code",
      "source": [
        "df2=df2[['prompt', 'A', 'B', 'C', 'D', 'E', 'answer']]"
      ],
      "metadata": {
        "id": "euq24Br-2wI6"
      },
      "execution_count": null,
      "outputs": []
    },
    {
      "cell_type": "code",
      "source": [
        "df3=df3[['prompt', 'A', 'B', 'C', 'D', 'E', 'answer']]"
      ],
      "metadata": {
        "id": "uVd0__ik2yDB"
      },
      "execution_count": null,
      "outputs": []
    },
    {
      "cell_type": "code",
      "source": [
        "df4=df4[['prompt', 'A', 'B', 'C', 'D', 'E', 'answer']]"
      ],
      "metadata": {
        "id": "QpbGUey82zGm"
      },
      "execution_count": null,
      "outputs": []
    },
    {
      "cell_type": "code",
      "source": [
        "df5=df5[['prompt', 'A', 'B', 'C', 'D', 'E', 'answer']]"
      ],
      "metadata": {
        "id": "zbBAGyb620z1"
      },
      "execution_count": null,
      "outputs": []
    },
    {
      "cell_type": "code",
      "source": [
        "\n",
        "df6=df6[['prompt', 'A', 'B', 'C', 'D', 'E', 'answer']]"
      ],
      "metadata": {
        "id": "wbChIidC22jE"
      },
      "execution_count": null,
      "outputs": []
    },
    {
      "cell_type": "code",
      "source": [
        "df = pd.concat([df1,df2,df3,df4,df5,df6])"
      ],
      "metadata": {
        "id": "FZxkIpAW23qZ"
      },
      "execution_count": null,
      "outputs": []
    },
    {
      "cell_type": "code",
      "source": [
        "df = df.apply(lambda x: x.fillna(x.value_counts().index[0]))"
      ],
      "metadata": {
        "id": "b27mU_tj3z0S"
      },
      "execution_count": null,
      "outputs": []
    },
    {
      "cell_type": "code",
      "source": [
        "df.isna().sum()"
      ],
      "metadata": {
        "colab": {
          "base_uri": "https://localhost:8080/"
        },
        "id": "w8huRZFM29Wf",
        "outputId": "a0313434-bc40-46fb-e498-0a4c36c261d2"
      },
      "execution_count": null,
      "outputs": [
        {
          "output_type": "execute_result",
          "data": {
            "text/plain": [
              "prompt    0\n",
              "A         0\n",
              "B         0\n",
              "C         0\n",
              "D         0\n",
              "E         0\n",
              "answer    0\n",
              "dtype: int64"
            ]
          },
          "metadata": {},
          "execution_count": 92
        }
      ]
    },
    {
      "cell_type": "code",
      "source": [
        "df.answer.value_counts()"
      ],
      "metadata": {
        "colab": {
          "base_uri": "https://localhost:8080/"
        },
        "id": "-IhAbbtp2-SR",
        "outputId": "ccbbb916-8881-407c-fa3c-62e802049da8"
      },
      "execution_count": null,
      "outputs": [
        {
          "output_type": "execute_result",
          "data": {
            "text/plain": [
              "A    6144\n",
              "C    5597\n",
              "B    5584\n",
              "D    4861\n",
              "E    2221\n",
              "Name: answer, dtype: int64"
            ]
          },
          "metadata": {},
          "execution_count": 93
        }
      ]
    },
    {
      "cell_type": "code",
      "source": [
        "df.to_csv('final_v0.csv')"
      ],
      "metadata": {
        "id": "vDj3Qvpe8Laz"
      },
      "execution_count": null,
      "outputs": []
    },
    {
      "cell_type": "code",
      "source": [],
      "metadata": {
        "id": "t3UaO-bN8sqe"
      },
      "execution_count": null,
      "outputs": []
    }
  ]
}